{
 "cells": [
  {
   "cell_type": "code",
   "execution_count": 2,
   "id": "3958af9b-6743-411a-ba69-4028313770a8",
   "metadata": {},
   "outputs": [],
   "source": [
    "import logging\n",
    "logging.basicConfig(filename=\"Assignment_6.log\",level=logging.DEBUG)"
   ]
  },
  {
   "cell_type": "code",
   "execution_count": 8,
   "id": "e3ff569a-fa5b-4eb1-b68a-34bce898e3c3",
   "metadata": {},
   "outputs": [
    {
     "name": "stdin",
     "output_type": "stream",
     "text": [
      "Enter your passwprd:  AAbHk!^*46\n"
     ]
    },
    {
     "data": {
      "text/plain": [
       "'Valid Password'"
      ]
     },
     "execution_count": 8,
     "metadata": {},
     "output_type": "execute_result"
    }
   ],
   "source": [
    "#Que1.You are writing code for a company. The requirement of the company is that you create a pythonfunction that will check whether the password entered by the user is correct or not. The function shouldtake the password as input and return the string “Valid Password” if the entered password follows thebelow-given password guidelines else it should return “Invalid Password”.\n",
    "#Note: 1. The Password should contain at least two uppercase letters and at least two lowercase letters.\n",
    "#2. The Password should contain at least a number and three special characters.\n",
    "#3. The length of the password should be 10 characters long.\n",
    "import string\n",
    "g=string.punctuation\n",
    "def check_password(s):\n",
    "    c=0\n",
    "    d=0\n",
    "    u=0\n",
    "    l=0\n",
    "    if len(s)!=10:\n",
    "        return \"Invalid Password\"\n",
    "    for i in s:\n",
    "        if i =='1' or i =='2' or i =='3' or i =='4' or i =='5' or i =='6' or i =='7' or i =='8' or i =='9' or i =='0':\n",
    "            c=c+1\n",
    "        if i in g:\n",
    "            d=d+1\n",
    "        if i.isupper():\n",
    "            u=u+1\n",
    "        if i.islower():\n",
    "            l=l+1\n",
    "    if c>=1 and d>=3 and u>=2 and l>=2:\n",
    "        return \"Valid Password\"\n",
    "    else:\n",
    "        return \"Invalid Password\"\n",
    "    \n",
    "Ans=input(\"Enter your passwprd: \") \n",
    "check_password(Ans)\n",
    "\n",
    "            \n",
    "        \n",
    "    "
   ]
  },
  {
   "cell_type": "code",
   "execution_count": 20,
   "id": "12165140-fcd2-49e7-83af-66c21975d349",
   "metadata": {},
   "outputs": [
    {
     "name": "stdout",
     "output_type": "stream",
     "text": [
      "[1, 2, 3, 4, 5, 6, 0]\n",
      "[-1, -2, -3, -4, -5]\n"
     ]
    }
   ],
   "source": [
    "#Que.2Q2. Solve the below-given questions using at least one of the following:\n",
    "#1. Lambda functioJ\n",
    "#2. Filter functioJ\n",
    "#3. Map functioJ\n",
    "#4. List ComprehensioI\n",
    "#B Check if the string starts with a particular letterY\n",
    "#B Check if the string is numericY\n",
    "#B Sort a list of tuples having fruit names and their quantity. [(\"mango\",99),(\"orange\",80), (\"grapes\", 1000)-\n",
    "#B Find the squares of numbers from 1 to 10Y\n",
    "#B Find the cube root of numbers from 1 to 10Y\n",
    "#B Check if a given number is evenY\n",
    "# Filter odd numbers from the given list.\n",
    "a=[1,2,3,4,5,6,7,8,9,10]\n",
    "#B Sort a list of integers into positive and negative integers lists.\n",
    "b=[1,2,3,4,5,6,-1,-2,-3,-4,-5,0]\n",
    "\n",
    "\n",
    "f1=lambda x:True if x[0]=='Y' else False\n",
    "s=\"Ynandit\"\n",
    "f1(s)\n",
    "\n",
    "f2=lambda x:True if x.isnumeric() else False\n",
    "f2(\"98j\")\n",
    "\n",
    "t= [(\"mango\",99),(\"orange\",80), (\"grapes\", 1000)]\n",
    "t.sort(key=lambda x:x[1])\n",
    "t\n",
    "\n",
    "l4=[i**2 for i in range(1,11)]\n",
    "l4\n",
    "\n",
    "l5=[i**(1/3) for i in range(1,11)]\n",
    "l5\n",
    "\n",
    "f6=lambda x:True if x%2==0 else False\n",
    "f6(9)\n",
    "\n",
    "l7=[i for i in a if i%2!=0]\n",
    "print(l7)\n",
    "\n",
    "\n",
    "print(list(filter(lambda x:True if x>=0 else False,b)))\n",
    "print(list(filter(lambda x:True if x<0 else False,b)))\n"
   ]
  }
 ],
 "metadata": {
  "kernelspec": {
   "display_name": "Python 3 (ipykernel)",
   "language": "python",
   "name": "python3"
  },
  "language_info": {
   "codemirror_mode": {
    "name": "ipython",
    "version": 3
   },
   "file_extension": ".py",
   "mimetype": "text/x-python",
   "name": "python",
   "nbconvert_exporter": "python",
   "pygments_lexer": "ipython3",
   "version": "3.10.8"
  }
 },
 "nbformat": 4,
 "nbformat_minor": 5
}
